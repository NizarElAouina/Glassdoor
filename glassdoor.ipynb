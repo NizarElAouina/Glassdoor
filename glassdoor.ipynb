{
 "cells": [
  {
   "cell_type": "code",
   "execution_count": 18,
   "id": "d7d99531",
   "metadata": {},
   "outputs": [
    {
     "name": "stdout",
     "output_type": "stream",
     "text": [
      "1 :  ['4,0', '4,0', '4,0', '3,0', '4,0', '5,0', '5,0', '2,0', '5,0', '4,0']\n",
      "2 :  ['13 sept. 2023', '9 sept. 2023', '9 sept. 2023', '8 sept. 2023', '2 sept. 2023', '2 sept. 2023', '2 mars 2023', '16 juil. 2023', '1 sept. 2023', '22 août 2023']\n",
      "3 :  ['Super', 'Avantage et inconvénient', 'positifs', 'brand specialist', 'Après 10 ans…', 'Learn and be curious', \"Bien mieux que vous ne pourriez l'imaginer\", \"Don't recommend\", 'Agent de trie', 'Lemon squising']\n",
      "4 :  ['Préparateur De Commande', 'agent de tri et de manutention', 'Préparateur De Commande', 'Brand Specialist', 'responsable transport et logistique', 'Operations Supervisor', 'Superviseur Technique', 'Employé anonyme', 'Agent de trie', 'Brand Specialist']\n",
      "5 :  ['travail de nuit donc mieux payé', \"du travail toute l'année, primes, 13eme mois, Sécurité physique, heures supplémentaire\", 'salaire machine a cafe offert', 'actions, bureaux attractifs, bonus à la signature', 'Hors freeze, facilités pour bouger en interne', '- Évolution pro rapide -Possibilité de travailler dans toute la France et le monde entier', '- salary (compared to average on the market) - reputation / fame', \"Le salaire de nuit, l'ambiance générale La sécurité\", 'Les bureaux sont super. Des fêtes et des événements. Gym dans le bâtiment. Travail passionnant.']\n",
      "6 :  [\"ennuyant et c'est très répétitif\", \"Période intensive pour noël, par moment la gestion, la marche, ne pas s'assoir\", 'bcp de boulots , travails répétitifs', 'faible salaire de base, augmentation annuelle faible', 'Certains managers sont plus focus sur leur propre évolution que sur celle des membres de leur équipe. Le système de promotions est très politique', 'Équilibre travail / vie de famille', '- general philosophy is to throw new employees in the deep end of the pool and see if they swim - very nerve-wracking - little or no coaching - each role is very managerial (little to no possibility to move up; moving up only if you move laterally, first) - some colleagues can be very competitive and hostile - unspoken rule is you work into the evening/night and on weekends to do what you need to do - US company but no one wants to speak English in France, which again is very nerve-wracking if you were told differently - diversity and inclusion, what are these?', 'Horaire décalé, débit du trie de colis important.', \"Les employé.e.s ne sont pas apprécié.e.s - vous pouvez être viré.e du jour au lendemain malgré votre performance, expérience, ambiance dans l'équipe\"]\n",
      "6 :  ['Ancien employé', \"Employé actuel, plus d'un an\", 'Satolas-et-Bonce', 'Employé actuel', 'Avion', 'Ancien employé', 'Paris', 'Employé actuel, plus de 3\\xa0ans', 'Lille', 'Ancien employé, plus de 3\\xa0ans', 'Osny', \"Employé actuel, moins d'un an\", \"Ancien employé, plus d'un an\", 'Clichy', \"Employé actuel, moins d'un an\", 'Carros', 'Ancien employé']\n"
     ]
    },
    {
     "data": {
      "text/plain": [
       "\"\\n#len(prices)\\n#len(pizzeria)\\n#len(adresse)\\n# In[53]:\\n# Create the dictionary.\\ndict = {'Ratings':ratings}\\n#dict = {'Pizzeria':pizzeria,'Prices':prices, 'Adresse':adresse}\\n# In[54]:\\nprint(dict)\\n# In[55]:\\n# Create the dataframe.\\nglassdor = pd.DataFrame.from_dict(dict)\\n# In[ ]:\\nglassdor.head(10)\\n# In[ ]:\""
      ]
     },
     "execution_count": 18,
     "metadata": {},
     "output_type": "execute_result"
    }
   ],
   "source": [
    "\n",
    "\n",
    "from bs4 import BeautifulSoup\n",
    "import requests\n",
    "import numpy as np\n",
    "import pandas as pd\n",
    "import matplotlib.pyplot as plt\n",
    "get_ipython().run_line_magic('matplotlib', 'inline')\n",
    "\n",
    "\n",
    "page = 2\n",
    "ratings = []\n",
    "dates=[]\n",
    "resumes=[]\n",
    "postes=[]\n",
    "avantages=[]\n",
    "inconvenients=[]\n",
    "anciennetes=[]\n",
    "\n",
    "#Page number should be <= 14 as website contains only 14 pages\n",
    "\n",
    "user_agent = ({'User-Agent':\n",
    "'Mozilla/5.0 (Windows NT 10.0; Win64; x64) \\\n",
    "AppleWebKit/537.36 (KHTML, like Gecko) \\\n",
    "Chrome/90.0.4430.212 Safari/537.36',\n",
    "'Accept-Language': 'en-US, en;q=0.5'})\n",
    "\n",
    "while page != 3:\n",
    "    url = f\"https://www.glassdoor.fr/Avis/Amazon-Avis-E6036_P{page}.htm\"\n",
    "    response = requests.get(url,headers = user_agent)\n",
    "    soup = BeautifulSoup(response.text, \"html.parser\")\n",
    "    page = page + 1\n",
    "    \n",
    "    \n",
    "#for name in soup.findAll('div',{'class':'ratingNumber mr-xsm'}):        \n",
    "    #ratings.append(name.text.strip())     \n",
    "    for rating in soup.find_all('span', {'class':'review-details__review-details-module__overallRating'}):\n",
    "        #ratings.append(rating.text.replace(' / 10','').strip())\n",
    "        ratings.append(rating.text.strip())\n",
    "        \n",
    "    for date in soup.find_all('span', {'class':'review-details__review-details-module__reviewDate'}):\n",
    "        #ratings.append(rating.text.replace(' / 10','').strip())\n",
    "        dates.append(date.text.strip())\n",
    "        \n",
    "    for resume in soup.find_all('a', {'class':'review-details__review-details-module__detailsLink review-details__review-details-module__title'}):\n",
    "        #ratings.append(rating.text.replace(' / 10','').strip())\n",
    "        resumes.append(resume.text.strip())\n",
    "        \n",
    "    for poste in soup.find_all('span', {'class':'review-details__review-details-module__employee'}):\n",
    "        #ratings.append(rating.text.replace(' / 10','').strip())\n",
    "        postes.append(poste.text.strip())  \n",
    "     \n",
    "    add_to_avantages = True\n",
    "    \n",
    "    for review in soup.find_all('p', {'class': 'review-details__review-details-module__isExpanded'}):\n",
    "        text = review.text.strip()\n",
    "        \n",
    "        if add_to_avantages:\n",
    "            avantages.append(text)\n",
    "        else:\n",
    "            inconvenients.append(text)\n",
    "        \n",
    "        # Toggle the flag for the next iteration\n",
    "        add_to_avantages = not add_to_avantages\n",
    "        \n",
    "    for anciennete in soup.find_all('div', {'class':'review-details__review-details-module__employeeDetails'}):\n",
    "        #ratings.append(rating.text.replace(' / 10','').strip())\n",
    "        anciennetes.append(anciennete.text.strip())  \n",
    "        \n",
    "    #for avantage in soup.find_all('p', {'class':'review-details__review-details-module__isExpanded'}):\n",
    "    #   #ratings.append(rating.text.replace(' / 10','').strip())\n",
    "    #  avantages.append(avantage.text.strip()) \n",
    "        \n",
    "    #for review in soup.findAll('span',{'class':'css-zyn6ii eulusyj0'}):\n",
    "        #reviews.append(review.text.replace('\\u202f','').replace(' avis','').strip())\n",
    "   \n",
    "    #for p in soup.findAll('p',{'class':'css-6pr0fg eulusyj0'}):\n",
    "        #prices.append(p.text.replace('\\xa0€','').replace('Prix moyen ','').replace(' Accepte les Yums','').strip())\n",
    "   \n",
    "    #for a in soup.findAll('p',{'class':'css-ibqusf eulusyj0'}):\n",
    "        #adresse.append(a.text.replace('\\n','').strip())\n",
    "# In[56]:\n",
    "print(\"1 : \", ratings)\n",
    "print(\"2 : \",dates)\n",
    "print(\"3 : \",resumes)\n",
    "print(\"4 : \",postes)\n",
    "print(\"5 : \",avantages)\n",
    "print(\"6 : \",inconvenients)\n",
    "print(\"6 : \",anciennetes)\n",
    "\n",
    "\"\"\"\n",
    "#len(prices)\n",
    "#len(pizzeria)\n",
    "#len(adresse)\n",
    "# In[53]:\n",
    "# Create the dictionary.\n",
    "dict = {'Ratings':ratings}\n",
    "#dict = {'Pizzeria':pizzeria,'Prices':prices, 'Adresse':adresse}\n",
    "# In[54]:\n",
    "print(dict)\n",
    "# In[55]:\n",
    "# Create the dataframe.\n",
    "glassdor = pd.DataFrame.from_dict(dict)\n",
    "# In[ ]:\n",
    "glassdor.head(10)\n",
    "# In[ ]:\"\"\""
   ]
  },
  {
   "cell_type": "code",
   "execution_count": 10,
   "id": "845af4b3",
   "metadata": {},
   "outputs": [
    {
     "name": "stdout",
     "output_type": "stream",
     "text": [
      "['8 sept. 2023', '2 sept. 2023', '16 juil. 2023', '2 mars 2023', '1 sept. 2023', '2 sept. 2023', '22 août 2023', '1 sept. 2023', '27 août 2023', '23 août 2023']\n"
     ]
    }
   ],
   "source": [
    "print(dates)"
   ]
  },
  {
   "cell_type": "code",
   "execution_count": 9,
   "id": "4d91d12a",
   "metadata": {},
   "outputs": [
    {
     "data": {
      "text/plain": [
       "10"
      ]
     },
     "execution_count": 9,
     "metadata": {},
     "output_type": "execute_result"
    }
   ],
   "source": [
    "len(ratings)"
   ]
  },
  {
   "cell_type": "code",
   "execution_count": 5,
   "id": "2b2de358",
   "metadata": {},
   "outputs": [
    {
     "name": "stdout",
     "output_type": "stream",
     "text": [
      "[]\n",
      "<span class=\"review-details__review-details-module__employee\">Brand Specialist</span>\n"
     ]
    }
   ],
   "source": [
    "print(resumes)\n",
    "print(poste)"
   ]
  }
 ],
 "metadata": {
  "kernelspec": {
   "display_name": "Python 3 (ipykernel)",
   "language": "python",
   "name": "python3"
  },
  "language_info": {
   "codemirror_mode": {
    "name": "ipython",
    "version": 3
   },
   "file_extension": ".py",
   "mimetype": "text/x-python",
   "name": "python",
   "nbconvert_exporter": "python",
   "pygments_lexer": "ipython3",
   "version": "3.10.9"
  }
 },
 "nbformat": 4,
 "nbformat_minor": 5
}
